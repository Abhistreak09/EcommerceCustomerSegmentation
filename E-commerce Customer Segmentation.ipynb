{
 "cells": [
  {
   "cell_type": "code",
   "execution_count": 71,
   "id": "ce60e775",
   "metadata": {},
   "outputs": [],
   "source": [
    "import numpy as np\n",
    "import pandas as pd\n",
    "import matplotlib.pyplot as plt\n",
    "import seaborn as sns\n",
    "\n",
    "from sklearn.cluster import KMeans\n",
    "\n",
    "from sklearn.metrics import silhouette_score\n",
    "\n",
    "import warnings\n",
    "warnings.filterwarnings('ignore')"
   ]
  },
  {
   "cell_type": "code",
   "execution_count": 18,
   "id": "2fb4e6c7",
   "metadata": {},
   "outputs": [],
   "source": [
    "data=pd.read_csv(\"cust_data.csv\")"
   ]
  },
  {
   "cell_type": "code",
   "execution_count": 19,
   "id": "5f0b8228",
   "metadata": {},
   "outputs": [
    {
     "data": {
      "text/html": [
       "<div>\n",
       "<style scoped>\n",
       "    .dataframe tbody tr th:only-of-type {\n",
       "        vertical-align: middle;\n",
       "    }\n",
       "\n",
       "    .dataframe tbody tr th {\n",
       "        vertical-align: top;\n",
       "    }\n",
       "\n",
       "    .dataframe thead th {\n",
       "        text-align: right;\n",
       "    }\n",
       "</style>\n",
       "<table border=\"1\" class=\"dataframe\">\n",
       "  <thead>\n",
       "    <tr style=\"text-align: right;\">\n",
       "      <th></th>\n",
       "      <th>Cust_ID</th>\n",
       "      <th>Gender</th>\n",
       "      <th>Orders</th>\n",
       "      <th>Jordan</th>\n",
       "      <th>Gatorade</th>\n",
       "      <th>Samsung</th>\n",
       "      <th>Asus</th>\n",
       "      <th>Udis</th>\n",
       "      <th>Mondelez International</th>\n",
       "      <th>Wrangler</th>\n",
       "      <th>...</th>\n",
       "      <th>LG</th>\n",
       "      <th>Dior</th>\n",
       "      <th>Scabal</th>\n",
       "      <th>Tommy Hilfiger</th>\n",
       "      <th>Hollister</th>\n",
       "      <th>Forever 21</th>\n",
       "      <th>Colavita</th>\n",
       "      <th>Microsoft</th>\n",
       "      <th>Jiffy mix</th>\n",
       "      <th>Kraft</th>\n",
       "    </tr>\n",
       "  </thead>\n",
       "  <tbody>\n",
       "    <tr>\n",
       "      <th>0</th>\n",
       "      <td>1</td>\n",
       "      <td>M</td>\n",
       "      <td>7</td>\n",
       "      <td>0</td>\n",
       "      <td>0</td>\n",
       "      <td>0</td>\n",
       "      <td>0</td>\n",
       "      <td>0</td>\n",
       "      <td>0</td>\n",
       "      <td>0</td>\n",
       "      <td>...</td>\n",
       "      <td>0</td>\n",
       "      <td>0</td>\n",
       "      <td>0</td>\n",
       "      <td>0</td>\n",
       "      <td>0</td>\n",
       "      <td>0</td>\n",
       "      <td>0</td>\n",
       "      <td>0</td>\n",
       "      <td>0</td>\n",
       "      <td>0</td>\n",
       "    </tr>\n",
       "    <tr>\n",
       "      <th>1</th>\n",
       "      <td>2</td>\n",
       "      <td>F</td>\n",
       "      <td>0</td>\n",
       "      <td>0</td>\n",
       "      <td>1</td>\n",
       "      <td>0</td>\n",
       "      <td>0</td>\n",
       "      <td>0</td>\n",
       "      <td>0</td>\n",
       "      <td>0</td>\n",
       "      <td>...</td>\n",
       "      <td>0</td>\n",
       "      <td>1</td>\n",
       "      <td>0</td>\n",
       "      <td>0</td>\n",
       "      <td>0</td>\n",
       "      <td>0</td>\n",
       "      <td>0</td>\n",
       "      <td>0</td>\n",
       "      <td>0</td>\n",
       "      <td>0</td>\n",
       "    </tr>\n",
       "    <tr>\n",
       "      <th>2</th>\n",
       "      <td>3</td>\n",
       "      <td>M</td>\n",
       "      <td>7</td>\n",
       "      <td>0</td>\n",
       "      <td>1</td>\n",
       "      <td>0</td>\n",
       "      <td>0</td>\n",
       "      <td>0</td>\n",
       "      <td>0</td>\n",
       "      <td>0</td>\n",
       "      <td>...</td>\n",
       "      <td>0</td>\n",
       "      <td>0</td>\n",
       "      <td>0</td>\n",
       "      <td>0</td>\n",
       "      <td>0</td>\n",
       "      <td>0</td>\n",
       "      <td>0</td>\n",
       "      <td>1</td>\n",
       "      <td>0</td>\n",
       "      <td>0</td>\n",
       "    </tr>\n",
       "    <tr>\n",
       "      <th>3</th>\n",
       "      <td>4</td>\n",
       "      <td>F</td>\n",
       "      <td>0</td>\n",
       "      <td>0</td>\n",
       "      <td>0</td>\n",
       "      <td>0</td>\n",
       "      <td>0</td>\n",
       "      <td>0</td>\n",
       "      <td>0</td>\n",
       "      <td>0</td>\n",
       "      <td>...</td>\n",
       "      <td>0</td>\n",
       "      <td>0</td>\n",
       "      <td>0</td>\n",
       "      <td>0</td>\n",
       "      <td>0</td>\n",
       "      <td>0</td>\n",
       "      <td>0</td>\n",
       "      <td>0</td>\n",
       "      <td>0</td>\n",
       "      <td>0</td>\n",
       "    </tr>\n",
       "    <tr>\n",
       "      <th>4</th>\n",
       "      <td>5</td>\n",
       "      <td>NaN</td>\n",
       "      <td>10</td>\n",
       "      <td>0</td>\n",
       "      <td>0</td>\n",
       "      <td>0</td>\n",
       "      <td>0</td>\n",
       "      <td>0</td>\n",
       "      <td>0</td>\n",
       "      <td>0</td>\n",
       "      <td>...</td>\n",
       "      <td>0</td>\n",
       "      <td>0</td>\n",
       "      <td>2</td>\n",
       "      <td>0</td>\n",
       "      <td>0</td>\n",
       "      <td>0</td>\n",
       "      <td>0</td>\n",
       "      <td>0</td>\n",
       "      <td>1</td>\n",
       "      <td>1</td>\n",
       "    </tr>\n",
       "    <tr>\n",
       "      <th>5</th>\n",
       "      <td>6</td>\n",
       "      <td>F</td>\n",
       "      <td>4</td>\n",
       "      <td>0</td>\n",
       "      <td>0</td>\n",
       "      <td>0</td>\n",
       "      <td>0</td>\n",
       "      <td>0</td>\n",
       "      <td>0</td>\n",
       "      <td>0</td>\n",
       "      <td>...</td>\n",
       "      <td>0</td>\n",
       "      <td>0</td>\n",
       "      <td>1</td>\n",
       "      <td>0</td>\n",
       "      <td>0</td>\n",
       "      <td>0</td>\n",
       "      <td>0</td>\n",
       "      <td>0</td>\n",
       "      <td>1</td>\n",
       "      <td>0</td>\n",
       "    </tr>\n",
       "    <tr>\n",
       "      <th>6</th>\n",
       "      <td>7</td>\n",
       "      <td>F</td>\n",
       "      <td>6</td>\n",
       "      <td>0</td>\n",
       "      <td>0</td>\n",
       "      <td>0</td>\n",
       "      <td>0</td>\n",
       "      <td>0</td>\n",
       "      <td>0</td>\n",
       "      <td>0</td>\n",
       "      <td>...</td>\n",
       "      <td>0</td>\n",
       "      <td>2</td>\n",
       "      <td>0</td>\n",
       "      <td>0</td>\n",
       "      <td>2</td>\n",
       "      <td>0</td>\n",
       "      <td>0</td>\n",
       "      <td>0</td>\n",
       "      <td>0</td>\n",
       "      <td>0</td>\n",
       "    </tr>\n",
       "    <tr>\n",
       "      <th>7</th>\n",
       "      <td>8</td>\n",
       "      <td>M</td>\n",
       "      <td>9</td>\n",
       "      <td>0</td>\n",
       "      <td>0</td>\n",
       "      <td>0</td>\n",
       "      <td>1</td>\n",
       "      <td>0</td>\n",
       "      <td>0</td>\n",
       "      <td>0</td>\n",
       "      <td>...</td>\n",
       "      <td>0</td>\n",
       "      <td>0</td>\n",
       "      <td>0</td>\n",
       "      <td>0</td>\n",
       "      <td>0</td>\n",
       "      <td>0</td>\n",
       "      <td>0</td>\n",
       "      <td>0</td>\n",
       "      <td>0</td>\n",
       "      <td>0</td>\n",
       "    </tr>\n",
       "    <tr>\n",
       "      <th>8</th>\n",
       "      <td>9</td>\n",
       "      <td>F</td>\n",
       "      <td>1</td>\n",
       "      <td>0</td>\n",
       "      <td>0</td>\n",
       "      <td>0</td>\n",
       "      <td>0</td>\n",
       "      <td>0</td>\n",
       "      <td>0</td>\n",
       "      <td>0</td>\n",
       "      <td>...</td>\n",
       "      <td>0</td>\n",
       "      <td>0</td>\n",
       "      <td>0</td>\n",
       "      <td>0</td>\n",
       "      <td>0</td>\n",
       "      <td>0</td>\n",
       "      <td>0</td>\n",
       "      <td>0</td>\n",
       "      <td>0</td>\n",
       "      <td>0</td>\n",
       "    </tr>\n",
       "    <tr>\n",
       "      <th>9</th>\n",
       "      <td>10</td>\n",
       "      <td>F</td>\n",
       "      <td>0</td>\n",
       "      <td>0</td>\n",
       "      <td>0</td>\n",
       "      <td>0</td>\n",
       "      <td>0</td>\n",
       "      <td>0</td>\n",
       "      <td>0</td>\n",
       "      <td>0</td>\n",
       "      <td>...</td>\n",
       "      <td>0</td>\n",
       "      <td>0</td>\n",
       "      <td>1</td>\n",
       "      <td>0</td>\n",
       "      <td>0</td>\n",
       "      <td>0</td>\n",
       "      <td>0</td>\n",
       "      <td>0</td>\n",
       "      <td>0</td>\n",
       "      <td>0</td>\n",
       "    </tr>\n",
       "  </tbody>\n",
       "</table>\n",
       "<p>10 rows × 38 columns</p>\n",
       "</div>"
      ],
      "text/plain": [
       "   Cust_ID Gender  Orders  Jordan  Gatorade  Samsung  Asus  Udis  \\\n",
       "0        1      M       7       0         0        0     0     0   \n",
       "1        2      F       0       0         1        0     0     0   \n",
       "2        3      M       7       0         1        0     0     0   \n",
       "3        4      F       0       0         0        0     0     0   \n",
       "4        5    NaN      10       0         0        0     0     0   \n",
       "5        6      F       4       0         0        0     0     0   \n",
       "6        7      F       6       0         0        0     0     0   \n",
       "7        8      M       9       0         0        0     1     0   \n",
       "8        9      F       1       0         0        0     0     0   \n",
       "9       10      F       0       0         0        0     0     0   \n",
       "\n",
       "   Mondelez International  Wrangler  ...  LG  Dior  Scabal  Tommy Hilfiger  \\\n",
       "0                       0         0  ...   0     0       0               0   \n",
       "1                       0         0  ...   0     1       0               0   \n",
       "2                       0         0  ...   0     0       0               0   \n",
       "3                       0         0  ...   0     0       0               0   \n",
       "4                       0         0  ...   0     0       2               0   \n",
       "5                       0         0  ...   0     0       1               0   \n",
       "6                       0         0  ...   0     2       0               0   \n",
       "7                       0         0  ...   0     0       0               0   \n",
       "8                       0         0  ...   0     0       0               0   \n",
       "9                       0         0  ...   0     0       1               0   \n",
       "\n",
       "   Hollister  Forever 21  Colavita  Microsoft  Jiffy mix  Kraft  \n",
       "0          0           0         0          0          0      0  \n",
       "1          0           0         0          0          0      0  \n",
       "2          0           0         0          1          0      0  \n",
       "3          0           0         0          0          0      0  \n",
       "4          0           0         0          0          1      1  \n",
       "5          0           0         0          0          1      0  \n",
       "6          2           0         0          0          0      0  \n",
       "7          0           0         0          0          0      0  \n",
       "8          0           0         0          0          0      0  \n",
       "9          0           0         0          0          0      0  \n",
       "\n",
       "[10 rows x 38 columns]"
      ]
     },
     "execution_count": 19,
     "metadata": {},
     "output_type": "execute_result"
    }
   ],
   "source": [
    "data.head(10)"
   ]
  },
  {
   "cell_type": "code",
   "execution_count": 20,
   "id": "4cb811e2",
   "metadata": {},
   "outputs": [
    {
     "data": {
      "text/plain": [
       "(30000, 38)"
      ]
     },
     "execution_count": 20,
     "metadata": {},
     "output_type": "execute_result"
    }
   ],
   "source": [
    "data.shape"
   ]
  },
  {
   "cell_type": "code",
   "execution_count": 21,
   "id": "87413257",
   "metadata": {},
   "outputs": [
    {
     "data": {
      "text/plain": [
       "Cust_ID                      0\n",
       "Gender                    2724\n",
       "Orders                       0\n",
       "Jordan                       0\n",
       "Gatorade                     0\n",
       "Samsung                      0\n",
       "Asus                         0\n",
       "Udis                         0\n",
       "Mondelez International       0\n",
       "Wrangler                     0\n",
       "Vans                         0\n",
       "Fila                         0\n",
       "Brooks                       0\n",
       "H&M                          0\n",
       "Dairy Queen                  0\n",
       "Fendi                        0\n",
       "Hewlett Packard              0\n",
       "Pladis                       0\n",
       "Asics                        0\n",
       "Siemens                      0\n",
       "J.M. Smucker                 0\n",
       "Pop Chips                    0\n",
       "Juniper                      0\n",
       "Huawei                       0\n",
       "Compaq                       0\n",
       "IBM                          0\n",
       "Burberry                     0\n",
       "Mi                           0\n",
       "LG                           0\n",
       "Dior                         0\n",
       "Scabal                       0\n",
       "Tommy Hilfiger               0\n",
       "Hollister                    0\n",
       "Forever 21                   0\n",
       "Colavita                     0\n",
       "Microsoft                    0\n",
       "Jiffy mix                    0\n",
       "Kraft                        0\n",
       "dtype: int64"
      ]
     },
     "execution_count": 21,
     "metadata": {},
     "output_type": "execute_result"
    }
   ],
   "source": [
    "# checking null values \n",
    "data.isnull().sum()"
   ]
  },
  {
   "cell_type": "code",
   "execution_count": 22,
   "id": "3306e2e4",
   "metadata": {},
   "outputs": [
    {
     "data": {
      "text/plain": [
       "Cust_ID                    int64\n",
       "Gender                    object\n",
       "Orders                     int64\n",
       "Jordan                     int64\n",
       "Gatorade                   int64\n",
       "Samsung                    int64\n",
       "Asus                       int64\n",
       "Udis                       int64\n",
       "Mondelez International     int64\n",
       "Wrangler                   int64\n",
       "Vans                       int64\n",
       "Fila                       int64\n",
       "Brooks                     int64\n",
       "H&M                        int64\n",
       "Dairy Queen                int64\n",
       "Fendi                      int64\n",
       "Hewlett Packard            int64\n",
       "Pladis                     int64\n",
       "Asics                      int64\n",
       "Siemens                    int64\n",
       "J.M. Smucker               int64\n",
       "Pop Chips                  int64\n",
       "Juniper                    int64\n",
       "Huawei                     int64\n",
       "Compaq                     int64\n",
       "IBM                        int64\n",
       "Burberry                   int64\n",
       "Mi                         int64\n",
       "LG                         int64\n",
       "Dior                       int64\n",
       "Scabal                     int64\n",
       "Tommy Hilfiger             int64\n",
       "Hollister                  int64\n",
       "Forever 21                 int64\n",
       "Colavita                   int64\n",
       "Microsoft                  int64\n",
       "Jiffy mix                  int64\n",
       "Kraft                      int64\n",
       "dtype: object"
      ]
     },
     "execution_count": 22,
     "metadata": {},
     "output_type": "execute_result"
    }
   ],
   "source": [
    "# checking data types\n",
    "data.dtypes"
   ]
  },
  {
   "cell_type": "code",
   "execution_count": 27,
   "id": "7f7e1740",
   "metadata": {},
   "outputs": [
    {
     "data": {
      "text/plain": [
       "Cust_ID                   30000\n",
       "Gender                        2\n",
       "Orders                       13\n",
       "Jordan                       16\n",
       "Gatorade                     13\n",
       "Samsung                      20\n",
       "Asus                         17\n",
       "Udis                         13\n",
       "Mondelez International       13\n",
       "Wrangler                     10\n",
       "Vans                         16\n",
       "Fila                         15\n",
       "Brooks                       10\n",
       "H&M                          16\n",
       "Dairy Queen                  24\n",
       "Fendi                        14\n",
       "Hewlett Packard              10\n",
       "Pladis                       11\n",
       "Asics                        25\n",
       "Siemens                      11\n",
       "J.M. Smucker                 27\n",
       "Pop Chips                    17\n",
       "Juniper                      29\n",
       "Huawei                       16\n",
       "Compaq                       19\n",
       "IBM                           9\n",
       "Burberry                     21\n",
       "Mi                            9\n",
       "LG                           13\n",
       "Dior                         12\n",
       "Scabal                       11\n",
       "Tommy Hilfiger                9\n",
       "Hollister                    10\n",
       "Forever 21                    9\n",
       "Colavita                     15\n",
       "Microsoft                    13\n",
       "Jiffy mix                     9\n",
       "Kraft                        12\n",
       "dtype: int64"
      ]
     },
     "execution_count": 27,
     "metadata": {},
     "output_type": "execute_result"
    }
   ],
   "source": [
    "# checking unique values \n",
    "data.nunique()"
   ]
  },
  {
   "cell_type": "code",
   "execution_count": null,
   "id": "a3a8e189",
   "metadata": {},
   "outputs": [],
   "source": []
  },
  {
   "cell_type": "code",
   "execution_count": 25,
   "id": "8909c523",
   "metadata": {},
   "outputs": [],
   "source": [
    "#changing Male and Female into 1 and 0\n",
    "data['Gender']=data['Gender'].map({'M':1,'F':0})"
   ]
  },
  {
   "cell_type": "code",
   "execution_count": 26,
   "id": "6bb76e0f",
   "metadata": {},
   "outputs": [
    {
     "data": {
      "text/html": [
       "<div>\n",
       "<style scoped>\n",
       "    .dataframe tbody tr th:only-of-type {\n",
       "        vertical-align: middle;\n",
       "    }\n",
       "\n",
       "    .dataframe tbody tr th {\n",
       "        vertical-align: top;\n",
       "    }\n",
       "\n",
       "    .dataframe thead th {\n",
       "        text-align: right;\n",
       "    }\n",
       "</style>\n",
       "<table border=\"1\" class=\"dataframe\">\n",
       "  <thead>\n",
       "    <tr style=\"text-align: right;\">\n",
       "      <th></th>\n",
       "      <th>Cust_ID</th>\n",
       "      <th>Gender</th>\n",
       "      <th>Orders</th>\n",
       "      <th>Jordan</th>\n",
       "      <th>Gatorade</th>\n",
       "      <th>Samsung</th>\n",
       "      <th>Asus</th>\n",
       "      <th>Udis</th>\n",
       "      <th>Mondelez International</th>\n",
       "      <th>Wrangler</th>\n",
       "      <th>...</th>\n",
       "      <th>LG</th>\n",
       "      <th>Dior</th>\n",
       "      <th>Scabal</th>\n",
       "      <th>Tommy Hilfiger</th>\n",
       "      <th>Hollister</th>\n",
       "      <th>Forever 21</th>\n",
       "      <th>Colavita</th>\n",
       "      <th>Microsoft</th>\n",
       "      <th>Jiffy mix</th>\n",
       "      <th>Kraft</th>\n",
       "    </tr>\n",
       "  </thead>\n",
       "  <tbody>\n",
       "    <tr>\n",
       "      <th>0</th>\n",
       "      <td>1</td>\n",
       "      <td>1.0</td>\n",
       "      <td>7</td>\n",
       "      <td>0</td>\n",
       "      <td>0</td>\n",
       "      <td>0</td>\n",
       "      <td>0</td>\n",
       "      <td>0</td>\n",
       "      <td>0</td>\n",
       "      <td>0</td>\n",
       "      <td>...</td>\n",
       "      <td>0</td>\n",
       "      <td>0</td>\n",
       "      <td>0</td>\n",
       "      <td>0</td>\n",
       "      <td>0</td>\n",
       "      <td>0</td>\n",
       "      <td>0</td>\n",
       "      <td>0</td>\n",
       "      <td>0</td>\n",
       "      <td>0</td>\n",
       "    </tr>\n",
       "    <tr>\n",
       "      <th>1</th>\n",
       "      <td>2</td>\n",
       "      <td>0.0</td>\n",
       "      <td>0</td>\n",
       "      <td>0</td>\n",
       "      <td>1</td>\n",
       "      <td>0</td>\n",
       "      <td>0</td>\n",
       "      <td>0</td>\n",
       "      <td>0</td>\n",
       "      <td>0</td>\n",
       "      <td>...</td>\n",
       "      <td>0</td>\n",
       "      <td>1</td>\n",
       "      <td>0</td>\n",
       "      <td>0</td>\n",
       "      <td>0</td>\n",
       "      <td>0</td>\n",
       "      <td>0</td>\n",
       "      <td>0</td>\n",
       "      <td>0</td>\n",
       "      <td>0</td>\n",
       "    </tr>\n",
       "    <tr>\n",
       "      <th>2</th>\n",
       "      <td>3</td>\n",
       "      <td>1.0</td>\n",
       "      <td>7</td>\n",
       "      <td>0</td>\n",
       "      <td>1</td>\n",
       "      <td>0</td>\n",
       "      <td>0</td>\n",
       "      <td>0</td>\n",
       "      <td>0</td>\n",
       "      <td>0</td>\n",
       "      <td>...</td>\n",
       "      <td>0</td>\n",
       "      <td>0</td>\n",
       "      <td>0</td>\n",
       "      <td>0</td>\n",
       "      <td>0</td>\n",
       "      <td>0</td>\n",
       "      <td>0</td>\n",
       "      <td>1</td>\n",
       "      <td>0</td>\n",
       "      <td>0</td>\n",
       "    </tr>\n",
       "    <tr>\n",
       "      <th>3</th>\n",
       "      <td>4</td>\n",
       "      <td>0.0</td>\n",
       "      <td>0</td>\n",
       "      <td>0</td>\n",
       "      <td>0</td>\n",
       "      <td>0</td>\n",
       "      <td>0</td>\n",
       "      <td>0</td>\n",
       "      <td>0</td>\n",
       "      <td>0</td>\n",
       "      <td>...</td>\n",
       "      <td>0</td>\n",
       "      <td>0</td>\n",
       "      <td>0</td>\n",
       "      <td>0</td>\n",
       "      <td>0</td>\n",
       "      <td>0</td>\n",
       "      <td>0</td>\n",
       "      <td>0</td>\n",
       "      <td>0</td>\n",
       "      <td>0</td>\n",
       "    </tr>\n",
       "    <tr>\n",
       "      <th>4</th>\n",
       "      <td>5</td>\n",
       "      <td>NaN</td>\n",
       "      <td>10</td>\n",
       "      <td>0</td>\n",
       "      <td>0</td>\n",
       "      <td>0</td>\n",
       "      <td>0</td>\n",
       "      <td>0</td>\n",
       "      <td>0</td>\n",
       "      <td>0</td>\n",
       "      <td>...</td>\n",
       "      <td>0</td>\n",
       "      <td>0</td>\n",
       "      <td>2</td>\n",
       "      <td>0</td>\n",
       "      <td>0</td>\n",
       "      <td>0</td>\n",
       "      <td>0</td>\n",
       "      <td>0</td>\n",
       "      <td>1</td>\n",
       "      <td>1</td>\n",
       "    </tr>\n",
       "    <tr>\n",
       "      <th>...</th>\n",
       "      <td>...</td>\n",
       "      <td>...</td>\n",
       "      <td>...</td>\n",
       "      <td>...</td>\n",
       "      <td>...</td>\n",
       "      <td>...</td>\n",
       "      <td>...</td>\n",
       "      <td>...</td>\n",
       "      <td>...</td>\n",
       "      <td>...</td>\n",
       "      <td>...</td>\n",
       "      <td>...</td>\n",
       "      <td>...</td>\n",
       "      <td>...</td>\n",
       "      <td>...</td>\n",
       "      <td>...</td>\n",
       "      <td>...</td>\n",
       "      <td>...</td>\n",
       "      <td>...</td>\n",
       "      <td>...</td>\n",
       "      <td>...</td>\n",
       "    </tr>\n",
       "    <tr>\n",
       "      <th>29995</th>\n",
       "      <td>29996</td>\n",
       "      <td>1.0</td>\n",
       "      <td>0</td>\n",
       "      <td>0</td>\n",
       "      <td>0</td>\n",
       "      <td>0</td>\n",
       "      <td>0</td>\n",
       "      <td>0</td>\n",
       "      <td>0</td>\n",
       "      <td>0</td>\n",
       "      <td>...</td>\n",
       "      <td>0</td>\n",
       "      <td>0</td>\n",
       "      <td>0</td>\n",
       "      <td>0</td>\n",
       "      <td>0</td>\n",
       "      <td>0</td>\n",
       "      <td>0</td>\n",
       "      <td>0</td>\n",
       "      <td>0</td>\n",
       "      <td>0</td>\n",
       "    </tr>\n",
       "    <tr>\n",
       "      <th>29996</th>\n",
       "      <td>29997</td>\n",
       "      <td>1.0</td>\n",
       "      <td>1</td>\n",
       "      <td>0</td>\n",
       "      <td>1</td>\n",
       "      <td>0</td>\n",
       "      <td>0</td>\n",
       "      <td>0</td>\n",
       "      <td>0</td>\n",
       "      <td>0</td>\n",
       "      <td>...</td>\n",
       "      <td>0</td>\n",
       "      <td>0</td>\n",
       "      <td>0</td>\n",
       "      <td>0</td>\n",
       "      <td>0</td>\n",
       "      <td>0</td>\n",
       "      <td>0</td>\n",
       "      <td>0</td>\n",
       "      <td>0</td>\n",
       "      <td>0</td>\n",
       "    </tr>\n",
       "    <tr>\n",
       "      <th>29997</th>\n",
       "      <td>29998</td>\n",
       "      <td>1.0</td>\n",
       "      <td>0</td>\n",
       "      <td>0</td>\n",
       "      <td>1</td>\n",
       "      <td>0</td>\n",
       "      <td>0</td>\n",
       "      <td>0</td>\n",
       "      <td>0</td>\n",
       "      <td>0</td>\n",
       "      <td>...</td>\n",
       "      <td>0</td>\n",
       "      <td>0</td>\n",
       "      <td>0</td>\n",
       "      <td>0</td>\n",
       "      <td>0</td>\n",
       "      <td>0</td>\n",
       "      <td>0</td>\n",
       "      <td>0</td>\n",
       "      <td>0</td>\n",
       "      <td>0</td>\n",
       "    </tr>\n",
       "    <tr>\n",
       "      <th>29998</th>\n",
       "      <td>29999</td>\n",
       "      <td>1.0</td>\n",
       "      <td>0</td>\n",
       "      <td>0</td>\n",
       "      <td>0</td>\n",
       "      <td>0</td>\n",
       "      <td>0</td>\n",
       "      <td>0</td>\n",
       "      <td>0</td>\n",
       "      <td>0</td>\n",
       "      <td>...</td>\n",
       "      <td>0</td>\n",
       "      <td>0</td>\n",
       "      <td>0</td>\n",
       "      <td>0</td>\n",
       "      <td>0</td>\n",
       "      <td>0</td>\n",
       "      <td>0</td>\n",
       "      <td>0</td>\n",
       "      <td>0</td>\n",
       "      <td>0</td>\n",
       "    </tr>\n",
       "    <tr>\n",
       "      <th>29999</th>\n",
       "      <td>30000</td>\n",
       "      <td>0.0</td>\n",
       "      <td>3</td>\n",
       "      <td>2</td>\n",
       "      <td>0</td>\n",
       "      <td>0</td>\n",
       "      <td>1</td>\n",
       "      <td>0</td>\n",
       "      <td>0</td>\n",
       "      <td>0</td>\n",
       "      <td>...</td>\n",
       "      <td>0</td>\n",
       "      <td>0</td>\n",
       "      <td>0</td>\n",
       "      <td>0</td>\n",
       "      <td>0</td>\n",
       "      <td>0</td>\n",
       "      <td>0</td>\n",
       "      <td>0</td>\n",
       "      <td>0</td>\n",
       "      <td>0</td>\n",
       "    </tr>\n",
       "  </tbody>\n",
       "</table>\n",
       "<p>30000 rows × 38 columns</p>\n",
       "</div>"
      ],
      "text/plain": [
       "       Cust_ID  Gender  Orders  Jordan  Gatorade  Samsung  Asus  Udis  \\\n",
       "0            1     1.0       7       0         0        0     0     0   \n",
       "1            2     0.0       0       0         1        0     0     0   \n",
       "2            3     1.0       7       0         1        0     0     0   \n",
       "3            4     0.0       0       0         0        0     0     0   \n",
       "4            5     NaN      10       0         0        0     0     0   \n",
       "...        ...     ...     ...     ...       ...      ...   ...   ...   \n",
       "29995    29996     1.0       0       0         0        0     0     0   \n",
       "29996    29997     1.0       1       0         1        0     0     0   \n",
       "29997    29998     1.0       0       0         1        0     0     0   \n",
       "29998    29999     1.0       0       0         0        0     0     0   \n",
       "29999    30000     0.0       3       2         0        0     1     0   \n",
       "\n",
       "       Mondelez International  Wrangler  ...  LG  Dior  Scabal  \\\n",
       "0                           0         0  ...   0     0       0   \n",
       "1                           0         0  ...   0     1       0   \n",
       "2                           0         0  ...   0     0       0   \n",
       "3                           0         0  ...   0     0       0   \n",
       "4                           0         0  ...   0     0       2   \n",
       "...                       ...       ...  ...  ..   ...     ...   \n",
       "29995                       0         0  ...   0     0       0   \n",
       "29996                       0         0  ...   0     0       0   \n",
       "29997                       0         0  ...   0     0       0   \n",
       "29998                       0         0  ...   0     0       0   \n",
       "29999                       0         0  ...   0     0       0   \n",
       "\n",
       "       Tommy Hilfiger  Hollister  Forever 21  Colavita  Microsoft  Jiffy mix  \\\n",
       "0                   0          0           0         0          0          0   \n",
       "1                   0          0           0         0          0          0   \n",
       "2                   0          0           0         0          1          0   \n",
       "3                   0          0           0         0          0          0   \n",
       "4                   0          0           0         0          0          1   \n",
       "...               ...        ...         ...       ...        ...        ...   \n",
       "29995               0          0           0         0          0          0   \n",
       "29996               0          0           0         0          0          0   \n",
       "29997               0          0           0         0          0          0   \n",
       "29998               0          0           0         0          0          0   \n",
       "29999               0          0           0         0          0          0   \n",
       "\n",
       "       Kraft  \n",
       "0          0  \n",
       "1          0  \n",
       "2          0  \n",
       "3          0  \n",
       "4          1  \n",
       "...      ...  \n",
       "29995      0  \n",
       "29996      0  \n",
       "29997      0  \n",
       "29998      0  \n",
       "29999      0  \n",
       "\n",
       "[30000 rows x 38 columns]"
      ]
     },
     "execution_count": 26,
     "metadata": {},
     "output_type": "execute_result"
    }
   ],
   "source": [
    "data"
   ]
  },
  {
   "cell_type": "code",
   "execution_count": 28,
   "id": "87f831aa",
   "metadata": {},
   "outputs": [
    {
     "data": {
      "text/plain": [
       "0.0    22054\n",
       "1.0     5222\n",
       "Name: Gender, dtype: int64"
      ]
     },
     "execution_count": 28,
     "metadata": {},
     "output_type": "execute_result"
    }
   ],
   "source": [
    "data['Gender'].value_counts()"
   ]
  },
  {
   "cell_type": "code",
   "execution_count": 29,
   "id": "b02f1608",
   "metadata": {},
   "outputs": [],
   "source": [
    "data['Gender'].fillna(data['Gender'].mode()[0],inplace=True)"
   ]
  },
  {
   "cell_type": "code",
   "execution_count": 33,
   "id": "b260c9ab",
   "metadata": {},
   "outputs": [
    {
     "name": "stdout",
     "output_type": "stream",
     "text": [
      "<class 'pandas.core.frame.DataFrame'>\n",
      "RangeIndex: 30000 entries, 0 to 29999\n",
      "Data columns (total 38 columns):\n",
      " #   Column                  Non-Null Count  Dtype  \n",
      "---  ------                  --------------  -----  \n",
      " 0   Cust_ID                 30000 non-null  int64  \n",
      " 1   Gender                  30000 non-null  float64\n",
      " 2   Orders                  30000 non-null  int64  \n",
      " 3   Jordan                  30000 non-null  int64  \n",
      " 4   Gatorade                30000 non-null  int64  \n",
      " 5   Samsung                 30000 non-null  int64  \n",
      " 6   Asus                    30000 non-null  int64  \n",
      " 7   Udis                    30000 non-null  int64  \n",
      " 8   Mondelez International  30000 non-null  int64  \n",
      " 9   Wrangler                30000 non-null  int64  \n",
      " 10  Vans                    30000 non-null  int64  \n",
      " 11  Fila                    30000 non-null  int64  \n",
      " 12  Brooks                  30000 non-null  int64  \n",
      " 13  H&M                     30000 non-null  int64  \n",
      " 14  Dairy Queen             30000 non-null  int64  \n",
      " 15  Fendi                   30000 non-null  int64  \n",
      " 16  Hewlett Packard         30000 non-null  int64  \n",
      " 17  Pladis                  30000 non-null  int64  \n",
      " 18  Asics                   30000 non-null  int64  \n",
      " 19  Siemens                 30000 non-null  int64  \n",
      " 20  J.M. Smucker            30000 non-null  int64  \n",
      " 21  Pop Chips               30000 non-null  int64  \n",
      " 22  Juniper                 30000 non-null  int64  \n",
      " 23  Huawei                  30000 non-null  int64  \n",
      " 24  Compaq                  30000 non-null  int64  \n",
      " 25  IBM                     30000 non-null  int64  \n",
      " 26  Burberry                30000 non-null  int64  \n",
      " 27  Mi                      30000 non-null  int64  \n",
      " 28  LG                      30000 non-null  int64  \n",
      " 29  Dior                    30000 non-null  int64  \n",
      " 30  Scabal                  30000 non-null  int64  \n",
      " 31  Tommy Hilfiger          30000 non-null  int64  \n",
      " 32  Hollister               30000 non-null  int64  \n",
      " 33  Forever 21              30000 non-null  int64  \n",
      " 34  Colavita                30000 non-null  int64  \n",
      " 35  Microsoft               30000 non-null  int64  \n",
      " 36  Jiffy mix               30000 non-null  int64  \n",
      " 37  Kraft                   30000 non-null  int64  \n",
      "dtypes: float64(1), int64(37)\n",
      "memory usage: 8.7 MB\n"
     ]
    }
   ],
   "source": [
    "data.info()"
   ]
  },
  {
   "cell_type": "code",
   "execution_count": 37,
   "id": "48a5dbf5",
   "metadata": {},
   "outputs": [
    {
     "data": {
      "text/plain": [
       "([<matplotlib.patches.Wedge at 0x24f6a59cc50>,\n",
       "  <matplotlib.patches.Wedge at 0x24f6a59e090>],\n",
       " [Text(-0.939585403910618, 0.5719958642841056, 'Females'),\n",
       "  Text(0.9822938313611005, -0.5979956762970197, 'Males')],\n",
       " [Text(-0.5125011294057916, 0.31199774415496667, '82.6%'),\n",
       "  Text(0.5552095568562742, -0.3379975561678807, '17.4%')])"
      ]
     },
     "execution_count": 37,
     "metadata": {},
     "output_type": "execute_result"
    },
    {
     "data": {
      "image/png": "[encoded data removed]",
      "text/plain": [
       "<Figure size 640x480 with 1 Axes>"
      ]
     },
     "metadata": {},
     "output_type": "display_data"
    }
   ],
   "source": [
    "labels = ['Females', 'Males']\n",
    "explode=[.0,.05]\n",
    "sizes=data[\"Gender\"].value_counts().values\n",
    "plt.pie(sizes,labels=labels,explode=explode,autopct='%1.1f%%')"
   ]
  },
  {
   "cell_type": "code",
   "execution_count": 38,
   "id": "e6cfeb0c",
   "metadata": {},
   "outputs": [
    {
     "data": {
      "text/plain": [
       "<Axes: xlabel='Gender', ylabel='count'>"
      ]
     },
     "execution_count": 38,
     "metadata": {},
     "output_type": "execute_result"
    },
    {
     "data": {
      "image/png": "[encoded data removed]",
      "text/plain": [
       "<Figure size 640x480 with 1 Axes>"
      ]
     },
     "metadata": {},
     "output_type": "display_data"
    }
   ],
   "source": [
    "sns.countplot(data=data,x=data['Gender'])"
   ]
  },
  {
   "cell_type": "markdown",
   "id": "847d21cf",
   "metadata": {},
   "source": [
    "# From the above 2 Graph we can see that\n",
    "\n",
    "1) Number of females are more as compare to males.Females are with 82.6% and males are 17.4 %\n",
    "2) Count of Females is approx 25000 and count of males are 5000"
   ]
  },
  {
   "cell_type": "code",
   "execution_count": 46,
   "id": "4887596e",
   "metadata": {},
   "outputs": [
    {
     "data": {
      "text/plain": [
       "<Axes: xlabel='Orders', ylabel='count'>"
      ]
     },
     "execution_count": 46,
     "metadata": {},
     "output_type": "execute_result"
    },
    {
     "data": {
      "image/png": "[encoded data removed]",
      "text/plain": [
       "<Figure size 400x400 with 1 Axes>"
      ]
     },
     "metadata": {},
     "output_type": "display_data"
    }
   ],
   "source": [
    "plt.figure(figsize=(4,4))\n",
    "sns.countplot(data=data,x='Orders')"
   ]
  },
  {
   "cell_type": "code",
   "execution_count": 56,
   "id": "4e1bf705",
   "metadata": {},
   "outputs": [
    {
     "data": {
      "text/plain": [
       "0     7294\n",
       "1     2716\n",
       "2     2422\n",
       "7     2207\n",
       "3     2199\n",
       "4     2192\n",
       "8     2080\n",
       "6     2039\n",
       "5     2010\n",
       "9     1993\n",
       "10    1938\n",
       "12     469\n",
       "11     441\n",
       "Name: Orders, dtype: int64"
      ]
     },
     "execution_count": 56,
     "metadata": {},
     "output_type": "execute_result"
    }
   ],
   "source": [
    "data.Orders.value_counts()"
   ]
  },
  {
   "cell_type": "markdown",
   "id": "582c590b",
   "metadata": {},
   "source": [
    "In this we can se that the maximum numbers of orders are 0 which is more than 7294"
   ]
  },
  {
   "cell_type": "code",
   "execution_count": 58,
   "id": "581af1b8",
   "metadata": {},
   "outputs": [
    {
     "data": {
      "text/plain": [
       "<Axes: xlabel='Orders', ylabel='count'>"
      ]
     },
     "execution_count": 58,
     "metadata": {},
     "output_type": "execute_result"
    },
    {
     "data": {
      "image/png": "[encoded data removed]",
      "text/plain": [
       "<Figure size 400x400 with 1 Axes>"
      ]
     },
     "metadata": {},
     "output_type": "display_data"
    }
   ],
   "source": [
    "# Checking Who have done more Orders Male or Female\n",
    "plt.figure(figsize=(4,4))\n",
    "sns.countplot(data=data,x='Orders',hue='Gender')"
   ]
  },
  {
   "cell_type": "markdown",
   "id": "f350d331",
   "metadata": {},
   "source": [
    "Number of females are more who have done 0 orders which is more than 6000"
   ]
  },
  {
   "cell_type": "code",
   "execution_count": 59,
   "id": "3ebd88b2",
   "metadata": {},
   "outputs": [
    {
     "data": {
      "text/plain": [
       "Index(['Cust_ID', 'Gender', 'Orders', 'Jordan', 'Gatorade', 'Samsung', 'Asus',\n",
       "       'Udis', 'Mondelez International', 'Wrangler', 'Vans', 'Fila', 'Brooks',\n",
       "       'H&M', 'Dairy Queen', 'Fendi', 'Hewlett Packard', 'Pladis', 'Asics',\n",
       "       'Siemens', 'J.M. Smucker', 'Pop Chips', 'Juniper', 'Huawei', 'Compaq',\n",
       "       'IBM', 'Burberry', 'Mi', 'LG', 'Dior', 'Scabal', 'Tommy Hilfiger',\n",
       "       'Hollister', 'Forever 21', 'Colavita', 'Microsoft', 'Jiffy mix',\n",
       "       'Kraft'],\n",
       "      dtype='object')"
      ]
     },
     "execution_count": 59,
     "metadata": {},
     "output_type": "execute_result"
    }
   ],
   "source": [
    "data.columns"
   ]
  },
  {
   "cell_type": "code",
   "execution_count": 66,
   "id": "399286c7",
   "metadata": {},
   "outputs": [
    {
     "data": {
      "image/png": "[encoded data removed]",
      "text/plain": [
       "<Figure size 1200x600 with 1 Axes>"
      ]
     },
     "metadata": {},
     "output_type": "display_data"
    }
   ],
   "source": [
    "brand_counts = data.iloc[:, 3:].sum()\n",
    "plt.figure(figsize=(12, 6))\n",
    "sns.barplot(x=brand_counts.index, y=brand_counts.values)\n",
    "plt.xticks(rotation=90)\n",
    "plt.xlabel('Brands')\n",
    "plt.ylabel('Total Searches')\n",
    "plt.title('Count of Searches for Each Brand')\n",
    "plt.show()"
   ]
  },
  {
   "cell_type": "markdown",
   "id": "197dfa49",
   "metadata": {},
   "source": [
    "maximum people orders item from J.M.Smucker"
   ]
  },
  {
   "cell_type": "markdown",
   "id": "d0d1ebed",
   "metadata": {},
   "source": [
    "# Model Building"
   ]
  },
  {
   "cell_type": "code",
   "execution_count": 67,
   "id": "acc28314",
   "metadata": {},
   "outputs": [],
   "source": [
    "from sklearn.cluster import KMeans\n",
    "\n",
    "X = data.iloc[:, 2:] "
   ]
  },
  {
   "cell_type": "code",
   "execution_count": 68,
   "id": "8d7ce09c",
   "metadata": {},
   "outputs": [],
   "source": [
    "wcss = []\n",
    "\n",
    "for i in range(1, 11):\n",
    "  kmeans = KMeans(n_clusters=i, init=\"k-means++\", max_iter=200, random_state = 42)\n",
    "  kmeans.fit(X)\n",
    "\n",
    "  wcss.append(kmeans.inertia_)"
   ]
  },
  {
   "cell_type": "code",
   "execution_count": 69,
   "id": "446b5dbe",
   "metadata": {},
   "outputs": [
    {
     "data": {
      "image/png": "[encoded data removed]",
      "text/plain": [
       "<Figure size 1500x700 with 1 Axes>"
      ]
     },
     "metadata": {},
     "output_type": "display_data"
    }
   ],
   "source": [
    "plt.figure(figsize = (15, 7))\n",
    "plt.plot(range(1, 11), wcss)\n",
    "plt.title(\"The Elbow Graph\")\n",
    "plt.xlabel(\"No. of clusters\")\n",
    "plt.ylabel(\"Within Cluster Sum of Square\")\n",
    "plt.show()"
   ]
  },
  {
   "cell_type": "markdown",
   "id": "c0adce8f",
   "metadata": {},
   "source": [
    "# Number of Cluster will be 2"
   ]
  },
  {
   "cell_type": "code",
   "execution_count": 72,
   "id": "23ed0bfb",
   "metadata": {},
   "outputs": [
    {
     "name": "stdout",
     "output_type": "stream",
     "text": [
      "for cluster: 2 --> Silhouette Score: 0.338\n",
      "for cluster: 3 --> Silhouette Score: 0.203\n",
      "for cluster: 4 --> Silhouette Score: 0.202\n",
      "for cluster: 5 --> Silhouette Score: 0.205\n",
      "for cluster: 6 --> Silhouette Score: 0.132\n",
      "for cluster: 7 --> Silhouette Score: 0.133\n",
      "for cluster: 8 --> Silhouette Score: 0.141\n",
      "for cluster: 9 --> Silhouette Score: 0.134\n",
      "for cluster: 10 --> Silhouette Score: 0.095\n"
     ]
    }
   ],
   "source": [
    "for i in range(2,11):\n",
    " kmeans = KMeans(n_clusters=i,init='k-means++',max_iter=300,n_init=10)\n",
    " kmeans.fit_predict(X)\n",
    " \n",
    " score = silhouette_score(X, kmeans.labels_, metric='euclidean')\n",
    " print(f'for cluster: {i} --> Silhouette Score: %.3f' % score)"
   ]
  },
  {
   "cell_type": "markdown",
   "id": "37096044",
   "metadata": {},
   "source": [
    "# Maximum Silhoutte Score is 0.338 which means there will be 2 Clusters"
   ]
  },
  {
   "cell_type": "code",
   "execution_count": 77,
   "id": "46ff96ee",
   "metadata": {},
   "outputs": [],
   "source": [
    "kmeans = KMeans(n_clusters = 2, init = 'k-means++', max_iter = 200, random_state = 42)"
   ]
  },
  {
   "cell_type": "code",
   "execution_count": 79,
   "id": "b0744809",
   "metadata": {},
   "outputs": [],
   "source": [
    "data['Cluster'] = kmeans.fit_predict(X)"
   ]
  },
  {
   "cell_type": "code",
   "execution_count": 81,
   "id": "73270a8a",
   "metadata": {},
   "outputs": [
    {
     "data": {
      "text/html": [
       "<div>\n",
       "<style scoped>\n",
       "    .dataframe tbody tr th:only-of-type {\n",
       "        vertical-align: middle;\n",
       "    }\n",
       "\n",
       "    .dataframe tbody tr th {\n",
       "        vertical-align: top;\n",
       "    }\n",
       "\n",
       "    .dataframe thead tr th {\n",
       "        text-align: left;\n",
       "    }\n",
       "\n",
       "    .dataframe thead tr:last-of-type th {\n",
       "        text-align: right;\n",
       "    }\n",
       "</style>\n",
       "<table border=\"1\" class=\"dataframe\">\n",
       "  <thead>\n",
       "    <tr>\n",
       "      <th></th>\n",
       "      <th colspan=\"8\" halign=\"left\">Cust_ID</th>\n",
       "      <th colspan=\"2\" halign=\"left\">Gender</th>\n",
       "      <th>...</th>\n",
       "      <th colspan=\"2\" halign=\"left\">Jiffy mix</th>\n",
       "      <th colspan=\"8\" halign=\"left\">Kraft</th>\n",
       "    </tr>\n",
       "    <tr>\n",
       "      <th></th>\n",
       "      <th>count</th>\n",
       "      <th>mean</th>\n",
       "      <th>std</th>\n",
       "      <th>min</th>\n",
       "      <th>25%</th>\n",
       "      <th>50%</th>\n",
       "      <th>75%</th>\n",
       "      <th>max</th>\n",
       "      <th>count</th>\n",
       "      <th>mean</th>\n",
       "      <th>...</th>\n",
       "      <th>75%</th>\n",
       "      <th>max</th>\n",
       "      <th>count</th>\n",
       "      <th>mean</th>\n",
       "      <th>std</th>\n",
       "      <th>min</th>\n",
       "      <th>25%</th>\n",
       "      <th>50%</th>\n",
       "      <th>75%</th>\n",
       "      <th>max</th>\n",
       "    </tr>\n",
       "    <tr>\n",
       "      <th>Cluster</th>\n",
       "      <th></th>\n",
       "      <th></th>\n",
       "      <th></th>\n",
       "      <th></th>\n",
       "      <th></th>\n",
       "      <th></th>\n",
       "      <th></th>\n",
       "      <th></th>\n",
       "      <th></th>\n",
       "      <th></th>\n",
       "      <th></th>\n",
       "      <th></th>\n",
       "      <th></th>\n",
       "      <th></th>\n",
       "      <th></th>\n",
       "      <th></th>\n",
       "      <th></th>\n",
       "      <th></th>\n",
       "      <th></th>\n",
       "      <th></th>\n",
       "      <th></th>\n",
       "    </tr>\n",
       "  </thead>\n",
       "  <tbody>\n",
       "    <tr>\n",
       "      <th>0</th>\n",
       "      <td>13177.0</td>\n",
       "      <td>15245.389542</td>\n",
       "      <td>8651.067073</td>\n",
       "      <td>1.0</td>\n",
       "      <td>7854.0</td>\n",
       "      <td>15328.0</td>\n",
       "      <td>22695.0</td>\n",
       "      <td>29993.0</td>\n",
       "      <td>13177.0</td>\n",
       "      <td>0.180845</td>\n",
       "      <td>...</td>\n",
       "      <td>0.0</td>\n",
       "      <td>8.0</td>\n",
       "      <td>13177.0</td>\n",
       "      <td>0.067466</td>\n",
       "      <td>0.396844</td>\n",
       "      <td>0.0</td>\n",
       "      <td>0.0</td>\n",
       "      <td>0.0</td>\n",
       "      <td>0.0</td>\n",
       "      <td>16.0</td>\n",
       "    </tr>\n",
       "    <tr>\n",
       "      <th>1</th>\n",
       "      <td>16823.0</td>\n",
       "      <td>14808.684658</td>\n",
       "      <td>8663.123776</td>\n",
       "      <td>2.0</td>\n",
       "      <td>7259.0</td>\n",
       "      <td>14707.0</td>\n",
       "      <td>22347.5</td>\n",
       "      <td>30000.0</td>\n",
       "      <td>16823.0</td>\n",
       "      <td>0.168757</td>\n",
       "      <td>...</td>\n",
       "      <td>0.0</td>\n",
       "      <td>8.0</td>\n",
       "      <td>16823.0</td>\n",
       "      <td>0.073590</td>\n",
       "      <td>0.380766</td>\n",
       "      <td>0.0</td>\n",
       "      <td>0.0</td>\n",
       "      <td>0.0</td>\n",
       "      <td>0.0</td>\n",
       "      <td>6.0</td>\n",
       "    </tr>\n",
       "  </tbody>\n",
       "</table>\n",
       "<p>2 rows × 304 columns</p>\n",
       "</div>"
      ],
      "text/plain": [
       "         Cust_ID                                                            \\\n",
       "           count          mean          std  min     25%      50%      75%   \n",
       "Cluster                                                                      \n",
       "0        13177.0  15245.389542  8651.067073  1.0  7854.0  15328.0  22695.0   \n",
       "1        16823.0  14808.684658  8663.123776  2.0  7259.0  14707.0  22347.5   \n",
       "\n",
       "                   Gender            ... Jiffy mix         Kraft            \\\n",
       "             max    count      mean  ...       75%  max    count      mean   \n",
       "Cluster                              ...                                     \n",
       "0        29993.0  13177.0  0.180845  ...       0.0  8.0  13177.0  0.067466   \n",
       "1        30000.0  16823.0  0.168757  ...       0.0  8.0  16823.0  0.073590   \n",
       "\n",
       "                                             \n",
       "              std  min  25%  50%  75%   max  \n",
       "Cluster                                      \n",
       "0        0.396844  0.0  0.0  0.0  0.0  16.0  \n",
       "1        0.380766  0.0  0.0  0.0  0.0   6.0  \n",
       "\n",
       "[2 rows x 304 columns]"
      ]
     },
     "execution_count": 81,
     "metadata": {},
     "output_type": "execute_result"
    }
   ],
   "source": [
    "cluster_total = data.groupby('Cluster').describe()\n",
    "cluster_total"
   ]
  },
  {
   "cell_type": "code",
   "execution_count": 82,
   "id": "0863cf75",
   "metadata": {},
   "outputs": [
    {
     "data": {
      "text/plain": [
       "<Axes: xlabel='Cluster', ylabel='Orders'>"
      ]
     },
     "execution_count": 82,
     "metadata": {},
     "output_type": "execute_result"
    },
    {
     "data": {
      "image/png": "[encoded data removed]",
      "text/plain": [
       "<Figure size 1500x700 with 1 Axes>"
      ]
     },
     "metadata": {},
     "output_type": "display_data"
    }
   ],
   "source": [
    "plt.figure(figsize=(15, 7))\n",
    "sns.scatterplot(x='Cluster', y='Orders', hue='Cluster', data=data)"
   ]
  },
  {
   "cell_type": "code",
   "execution_count": 85,
   "id": "b3b2a90f",
   "metadata": {},
   "outputs": [
    {
     "name": "stdout",
     "output_type": "stream",
     "text": [
      "   Cust_ID  Cluster          Cluster_total\n",
      "0        1        0    Low_Volume_Customer\n",
      "1        2        1  High_Volume_Customers\n",
      "2        3        0    Low_Volume_Customer\n",
      "3        4        1  High_Volume_Customers\n",
      "4        5        0    Low_Volume_Customer\n"
     ]
    }
   ],
   "source": [
    "cluster_total = {0: 'Low_Volume_Customer', 1: 'High_Volume_Customers'}\n",
    "\n",
    "data['Cluster_total'] = data['Cluster'].map(cluster_total)\n",
    "\n",
    "print(data[['Cust_ID', 'Cluster', 'Cluster_total']].head())"
   ]
  },
  {
   "cell_type": "markdown",
   "id": "90f934ce",
   "metadata": {},
   "source": [
    "# Model Interpretation\n"
   ]
  },
  {
   "cell_type": "markdown",
   "id": "912c0731",
   "metadata": {},
   "source": [
    "## The segmentation model has find two distinct customer segments:"
   ]
  },
  {
   "cell_type": "markdown",
   "id": "0d95fc5b",
   "metadata": {},
   "source": [
    "### Low_Volume_Customers:\n",
    "* This group consists people with smaller orders.\n",
    "\n",
    "### High-Volume Customers:\n",
    "* This group consists of people largerer orders."
   ]
  },
  {
   "cell_type": "code",
   "execution_count": null,
   "id": "9f41318e",
   "metadata": {},
   "outputs": [],
   "source": []
  }
 ],
 "metadata": {
  "kernelspec": {
   "display_name": "Python 3 (ipykernel)",
   "language": "python",
   "name": "python3"
  },
  "language_info": {
   "codemirror_mode": {
    "name": "ipython",
    "version": 3
   },
   "file_extension": ".py",
   "mimetype": "text/x-python",
   "name": "python",
   "nbconvert_exporter": "python",
   "pygments_lexer": "ipython3",
   "version": "3.11.4"
  }
 },
 "nbformat": 4,
 "nbformat_minor": 5
}
